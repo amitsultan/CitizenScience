{
  "nbformat": 4,
  "nbformat_minor": 0,
  "metadata": {
    "accelerator": "GPU",
    "colab": {
      "name": "CitizenScience.ipynb",
      "provenance": []
    },
    "kernelspec": {
      "display_name": "Python 3",
      "name": "python3"
    },
    "language_info": {
      "name": "python"
    }
  },
  "cells": [
    {
      "cell_type": "markdown",
      "metadata": {
        "id": "UPwz6TlfraVz"
      },
      "source": [
        "\n",
        "# Citizen Science\n",
        "  Citizen science is the practice of public participation and collaboration in scientific research to increase scientific knowledge. Through citizen science, people share and contribute to data monitoring and collection programs.\n",
        "<br>\n",
        "One example for Citizen Science and the one we will look at is presented at Galaxy Zoo, where users can help researcher by marking galaxies and celestial objects in pictures.\n",
        "<br>\n",
        "<br>\n",
        "# The Problem we face\n",
        "  We are presented with data of user HIT's, a user HIT is a time-stamp that indicates when a user made a contribution to the project. A sequence of user HIT's is called a session if the HIT's are not separated by more than 30 minitues, our goal is to determine and perdict when a user will disengage for a given session."
      ]
    },
    {
      "cell_type": "code",
      "metadata": {
        "id": "cvfK3gigycTp"
      },
      "source": [
        "import pandas as pd\n",
        "%matplotlib inline\n",
        "import matplotlib.pyplot as plt\n",
        "import numpy as np"
      ],
      "execution_count": 1,
      "outputs": []
    },
    {
      "cell_type": "code",
      "metadata": {
        "colab": {
          "base_uri": "https://localhost:8080/"
        },
        "id": "lYO7PtOzgwo2",
        "outputId": "72963fe2-6ffc-4bd8-8e0e-61f184767485"
      },
      "source": [
        "!wget ./data.csv https://github.com/amitsultan/CitizenScience/raw/main/data.csv"
      ],
      "execution_count": 2,
      "outputs": [
        {
          "output_type": "stream",
          "text": [
            "--2021-08-16 14:16:53--  http://./data.csv\n",
            "Resolving . (.)... failed: No address associated with hostname.\n",
            "wget: unable to resolve host address ‘.’\n",
            "--2021-08-16 14:16:53--  https://github.com/amitsultan/CitizenScience/raw/main/data.csv\n",
            "Resolving github.com (github.com)... 140.82.113.3\n",
            "Connecting to github.com (github.com)|140.82.113.3|:443... connected.\n",
            "HTTP request sent, awaiting response... 302 Found\n",
            "Location: https://raw.githubusercontent.com/amitsultan/CitizenScience/main/data.csv [following]\n",
            "--2021-08-16 14:16:53--  https://raw.githubusercontent.com/amitsultan/CitizenScience/main/data.csv\n",
            "Resolving raw.githubusercontent.com (raw.githubusercontent.com)... 185.199.110.133, 185.199.111.133, 185.199.109.133, ...\n",
            "Connecting to raw.githubusercontent.com (raw.githubusercontent.com)|185.199.110.133|:443... connected.\n",
            "HTTP request sent, awaiting response... 200 OK\n",
            "Length: 4468925 (4.3M) [text/plain]\n",
            "Saving to: ‘data.csv’\n",
            "\n",
            "data.csv            100%[===================>]   4.26M  --.-KB/s    in 0.1s    \n",
            "\n",
            "2021-08-16 14:16:54 (32.8 MB/s) - ‘data.csv’ saved [4468925/4468925]\n",
            "\n",
            "FINISHED --2021-08-16 14:16:54--\n",
            "Total wall clock time: 1.2s\n",
            "Downloaded: 1 files, 4.3M in 0.1s (32.8 MB/s)\n"
          ],
          "name": "stdout"
        }
      ]
    },
    {
      "cell_type": "markdown",
      "metadata": {
        "id": "DiqhWnTmtWJv"
      },
      "source": [
        "# Data preparation\n",
        "  The dataset is presented in the shape of a table with: User ID, Hit Date.\n",
        "  <br>\n",
        "  To use it as a dataset for a model we need to prepare the data and shape is as a valid training dataset, which will contain entries of features and labels.\n",
        "  <br>\n",
        "  We will group each user hits to one big list, we then go over each user list and create a set of features and labels for the given user based on the session length and disengange window.\n",
        "  <br>\n",
        "  <br>\n",
        "  ***Data Normalization*** - After we transfer all dates to timesteps which shown as seconds, we need to normalize the data to give it a meaningful reference point. If not, the model will not be able to understand the connection between two unrelated entries or two related entries as there is no baseline to unite them.\n",
        "  <br>\n",
        "  To achive that we take each user entire HIT's list and normalize it a with MinMax method, this unbound users HIT's from one another and put the relative difference between HIT's at front.\n",
        "  <br>\n",
        "  <br>\n",
        "  ***Creating the labels*** - For the labels we look at each user individually and analyze the HIT's, we take a window for size **n** and look at the next 5 mins to see if the user disengage from the session. The window is a sliding window so we only look at max of **n** HIT's at a time.\n",
        "  <br>\n",
        "  This can lead to problems as we limit ourself and our model with a static number, we might want to find another way to address this issue.\n",
        "  <br>\n",
        "  <br>\n",
        "# Solution - LSTM\n",
        "  We are given timestamps and asked to predict a future result, so the first approch to solve this kind of problems are Long Short-Term Memory (LSTM).\n",
        "  <br>\n",
        "  LSTM is an artificial recurrent neural network (RNN), and we use these kind of models to predict future results based on one or more fetures (timestamps)."
      ]
    },
    {
      "cell_type": "code",
      "metadata": {
        "colab": {
          "base_uri": "https://localhost:8080/",
          "height": 419
        },
        "id": "UfUoUxuNydZe",
        "outputId": "969f207e-2608-4acc-cbdd-07b14d22fba0"
      },
      "source": [
        "header_list = [\"user_id\", \"hit_date\"]\n",
        "df = pd.read_csv('/content/data.csv', names=header_list)\n",
        "df['hit_date'] = pd.to_datetime(df['hit_date'])\n",
        "df['hit_date'] = df['hit_date'].apply(lambda date: date.timestamp())\n",
        "df"
      ],
      "execution_count": 3,
      "outputs": [
        {
          "output_type": "execute_result",
          "data": {
            "text/html": [
              "<div>\n",
              "<style scoped>\n",
              "    .dataframe tbody tr th:only-of-type {\n",
              "        vertical-align: middle;\n",
              "    }\n",
              "\n",
              "    .dataframe tbody tr th {\n",
              "        vertical-align: top;\n",
              "    }\n",
              "\n",
              "    .dataframe thead th {\n",
              "        text-align: right;\n",
              "    }\n",
              "</style>\n",
              "<table border=\"1\" class=\"dataframe\">\n",
              "  <thead>\n",
              "    <tr style=\"text-align: right;\">\n",
              "      <th></th>\n",
              "      <th>user_id</th>\n",
              "      <th>hit_date</th>\n",
              "    </tr>\n",
              "  </thead>\n",
              "  <tbody>\n",
              "    <tr>\n",
              "      <th>0</th>\n",
              "      <td>54999c8d9cd118282b001784</td>\n",
              "      <td>1.419354e+09</td>\n",
              "    </tr>\n",
              "    <tr>\n",
              "      <th>1</th>\n",
              "      <td>54999c91bb7b56040d0011e8</td>\n",
              "      <td>1.419354e+09</td>\n",
              "    </tr>\n",
              "    <tr>\n",
              "      <th>2</th>\n",
              "      <td>54999c8fbb7b565d7e000a7c</td>\n",
              "      <td>1.419354e+09</td>\n",
              "    </tr>\n",
              "    <tr>\n",
              "      <th>3</th>\n",
              "      <td>54999cb29cd1184d77000539</td>\n",
              "      <td>1.419354e+09</td>\n",
              "    </tr>\n",
              "    <tr>\n",
              "      <th>4</th>\n",
              "      <td>54068fab91ad6b597e000f97</td>\n",
              "      <td>1.419354e+09</td>\n",
              "    </tr>\n",
              "    <tr>\n",
              "      <th>...</th>\n",
              "      <td>...</td>\n",
              "      <td>...</td>\n",
              "    </tr>\n",
              "    <tr>\n",
              "      <th>99994</th>\n",
              "      <td>54a47e7a9cd1185134000c11</td>\n",
              "      <td>1.420479e+09</td>\n",
              "    </tr>\n",
              "    <tr>\n",
              "      <th>99995</th>\n",
              "      <td>54a47e7a9cd1185134000c11</td>\n",
              "      <td>1.420479e+09</td>\n",
              "    </tr>\n",
              "    <tr>\n",
              "      <th>99996</th>\n",
              "      <td>548a2a7627b562650b001344</td>\n",
              "      <td>1.420479e+09</td>\n",
              "    </tr>\n",
              "    <tr>\n",
              "      <th>99997</th>\n",
              "      <td>548a2a7627b562650b001344</td>\n",
              "      <td>1.420479e+09</td>\n",
              "    </tr>\n",
              "    <tr>\n",
              "      <th>99998</th>\n",
              "      <td>54a47e7a9cd1185134000c11</td>\n",
              "      <td>1.420479e+09</td>\n",
              "    </tr>\n",
              "  </tbody>\n",
              "</table>\n",
              "<p>99999 rows × 2 columns</p>\n",
              "</div>"
            ],
            "text/plain": [
              "                        user_id      hit_date\n",
              "0      54999c8d9cd118282b001784  1.419354e+09\n",
              "1      54999c91bb7b56040d0011e8  1.419354e+09\n",
              "2      54999c8fbb7b565d7e000a7c  1.419354e+09\n",
              "3      54999cb29cd1184d77000539  1.419354e+09\n",
              "4      54068fab91ad6b597e000f97  1.419354e+09\n",
              "...                         ...           ...\n",
              "99994  54a47e7a9cd1185134000c11  1.420479e+09\n",
              "99995  54a47e7a9cd1185134000c11  1.420479e+09\n",
              "99996  548a2a7627b562650b001344  1.420479e+09\n",
              "99997  548a2a7627b562650b001344  1.420479e+09\n",
              "99998  54a47e7a9cd1185134000c11  1.420479e+09\n",
              "\n",
              "[99999 rows x 2 columns]"
            ]
          },
          "metadata": {
            "tags": []
          },
          "execution_count": 3
        }
      ]
    },
    {
      "cell_type": "code",
      "metadata": {
        "colab": {
          "base_uri": "https://localhost:8080/",
          "height": 419
        },
        "id": "3eP7ZSovyrOm",
        "outputId": "cf7e9cd3-577b-418f-8967-e89510e5fa7d"
      },
      "source": [
        "grouped = df.groupby('user_id')['hit_date'].apply(list)\n",
        "df1 = grouped.reset_index(name = 'total_hits')\n",
        "df1"
      ],
      "execution_count": 4,
      "outputs": [
        {
          "output_type": "execute_result",
          "data": {
            "text/html": [
              "<div>\n",
              "<style scoped>\n",
              "    .dataframe tbody tr th:only-of-type {\n",
              "        vertical-align: middle;\n",
              "    }\n",
              "\n",
              "    .dataframe tbody tr th {\n",
              "        vertical-align: top;\n",
              "    }\n",
              "\n",
              "    .dataframe thead th {\n",
              "        text-align: right;\n",
              "    }\n",
              "</style>\n",
              "<table border=\"1\" class=\"dataframe\">\n",
              "  <thead>\n",
              "    <tr style=\"text-align: right;\">\n",
              "      <th></th>\n",
              "      <th>user_id</th>\n",
              "      <th>total_hits</th>\n",
              "    </tr>\n",
              "  </thead>\n",
              "  <tbody>\n",
              "    <tr>\n",
              "      <th>0</th>\n",
              "      <td>4d5835cc2a82e278e6000028</td>\n",
              "      <td>[1420448863.0, 1420448871.0, 1420448881.0, 142...</td>\n",
              "    </tr>\n",
              "    <tr>\n",
              "      <th>1</th>\n",
              "      <td>4fcaa6daae60e44a1900000b</td>\n",
              "      <td>[1420083419.0, 1420083420.0, 1420083420.0, 142...</td>\n",
              "    </tr>\n",
              "    <tr>\n",
              "      <th>2</th>\n",
              "      <td>50085cfc44dff81137000020</td>\n",
              "      <td>[1419805955.0, 1420145743.0, 1420145749.0, 142...</td>\n",
              "    </tr>\n",
              "    <tr>\n",
              "      <th>3</th>\n",
              "      <td>5013adf30454e27ae4000002</td>\n",
              "      <td>[1420236768.0]</td>\n",
              "    </tr>\n",
              "    <tr>\n",
              "      <th>4</th>\n",
              "      <td>503e2b5eba40af242e000052</td>\n",
              "      <td>[1419599544.0, 1419711974.0, 1419873306.0, 141...</td>\n",
              "    </tr>\n",
              "    <tr>\n",
              "      <th>...</th>\n",
              "      <td>...</td>\n",
              "      <td>...</td>\n",
              "    </tr>\n",
              "    <tr>\n",
              "      <th>938</th>\n",
              "      <td>54aaa28a9cd1187eeb0000cf</td>\n",
              "      <td>[1420468897.0, 1420468904.0, 1420468925.0, 142...</td>\n",
              "    </tr>\n",
              "    <tr>\n",
              "      <th>939</th>\n",
              "      <td>54aaa4f4bb7b565415000023</td>\n",
              "      <td>[1420469582.0, 1420469614.0, 1420469626.0, 142...</td>\n",
              "    </tr>\n",
              "    <tr>\n",
              "      <th>940</th>\n",
              "      <td>54aaa579bb7b563483000398</td>\n",
              "      <td>[1420470080.0, 1420470568.0, 1420471461.0]</td>\n",
              "    </tr>\n",
              "    <tr>\n",
              "      <th>941</th>\n",
              "      <td>54aaaba29cd1180cf7000070</td>\n",
              "      <td>[1420471221.0, 1420471253.0, 1420471287.0, 142...</td>\n",
              "    </tr>\n",
              "    <tr>\n",
              "      <th>942</th>\n",
              "      <td>54aac9549cd11825500000f8</td>\n",
              "      <td>[1420478817.0, 1420478843.0, 1420478868.0, 142...</td>\n",
              "    </tr>\n",
              "  </tbody>\n",
              "</table>\n",
              "<p>943 rows × 2 columns</p>\n",
              "</div>"
            ],
            "text/plain": [
              "                      user_id                                         total_hits\n",
              "0    4d5835cc2a82e278e6000028  [1420448863.0, 1420448871.0, 1420448881.0, 142...\n",
              "1    4fcaa6daae60e44a1900000b  [1420083419.0, 1420083420.0, 1420083420.0, 142...\n",
              "2    50085cfc44dff81137000020  [1419805955.0, 1420145743.0, 1420145749.0, 142...\n",
              "3    5013adf30454e27ae4000002                                     [1420236768.0]\n",
              "4    503e2b5eba40af242e000052  [1419599544.0, 1419711974.0, 1419873306.0, 141...\n",
              "..                        ...                                                ...\n",
              "938  54aaa28a9cd1187eeb0000cf  [1420468897.0, 1420468904.0, 1420468925.0, 142...\n",
              "939  54aaa4f4bb7b565415000023  [1420469582.0, 1420469614.0, 1420469626.0, 142...\n",
              "940  54aaa579bb7b563483000398         [1420470080.0, 1420470568.0, 1420471461.0]\n",
              "941  54aaaba29cd1180cf7000070  [1420471221.0, 1420471253.0, 1420471287.0, 142...\n",
              "942  54aac9549cd11825500000f8  [1420478817.0, 1420478843.0, 1420478868.0, 142...\n",
              "\n",
              "[943 rows x 2 columns]"
            ]
          },
          "metadata": {
            "tags": []
          },
          "execution_count": 4
        }
      ]
    },
    {
      "cell_type": "code",
      "metadata": {
        "id": "jb2TgJ0zyuDj"
      },
      "source": [
        "def norm_timestamp(ts, min_v, max_v):\n",
        "    return (ts - min_v) / (max_v - min_v)"
      ],
      "execution_count": 5,
      "outputs": []
    },
    {
      "cell_type": "code",
      "metadata": {
        "id": "sG-pM-y9yuqO"
      },
      "source": [
        "def get_user_sessions(user_hits, delay = 30, save_as_timestamps=True):\n",
        "    user_hits.sort()\n",
        "    last_date = None\n",
        "    all_sessions = []\n",
        "    session = []\n",
        "    for date in user_hits:\n",
        "        if last_date == None:\n",
        "            session.append(date)\n",
        "        else:\n",
        "            diff = date - last_date\n",
        "            diff = diff / 60 # difference in mins\n",
        "            if diff > 30: # new session\n",
        "                all_sessions.append(session)\n",
        "                session = [date]\n",
        "            else:\n",
        "                session.append(date)\n",
        "        last_date = date\n",
        "    if len(session) > 0:\n",
        "        all_sessions.append(session)\n",
        "    return all_sessions"
      ],
      "execution_count": 6,
      "outputs": []
    },
    {
      "cell_type": "code",
      "metadata": {
        "colab": {
          "base_uri": "https://localhost:8080/",
          "height": 419
        },
        "id": "xfT_GqKxzAiq",
        "outputId": "bde0e512-4d18-44b8-b166-2c04d71dfc13"
      },
      "source": [
        "df1['sessions'] = df1.apply(lambda row: get_user_sessions(row['total_hits']), axis = 1)\n",
        "df1 = df1.drop(['total_hits'], axis = 1)\n",
        "df1"
      ],
      "execution_count": 7,
      "outputs": [
        {
          "output_type": "execute_result",
          "data": {
            "text/html": [
              "<div>\n",
              "<style scoped>\n",
              "    .dataframe tbody tr th:only-of-type {\n",
              "        vertical-align: middle;\n",
              "    }\n",
              "\n",
              "    .dataframe tbody tr th {\n",
              "        vertical-align: top;\n",
              "    }\n",
              "\n",
              "    .dataframe thead th {\n",
              "        text-align: right;\n",
              "    }\n",
              "</style>\n",
              "<table border=\"1\" class=\"dataframe\">\n",
              "  <thead>\n",
              "    <tr style=\"text-align: right;\">\n",
              "      <th></th>\n",
              "      <th>user_id</th>\n",
              "      <th>sessions</th>\n",
              "    </tr>\n",
              "  </thead>\n",
              "  <tbody>\n",
              "    <tr>\n",
              "      <th>0</th>\n",
              "      <td>4d5835cc2a82e278e6000028</td>\n",
              "      <td>[[1420448863.0, 1420448871.0, 1420448881.0, 14...</td>\n",
              "    </tr>\n",
              "    <tr>\n",
              "      <th>1</th>\n",
              "      <td>4fcaa6daae60e44a1900000b</td>\n",
              "      <td>[[1420083419.0, 1420083420.0, 1420083420.0, 14...</td>\n",
              "    </tr>\n",
              "    <tr>\n",
              "      <th>2</th>\n",
              "      <td>50085cfc44dff81137000020</td>\n",
              "      <td>[[1419805955.0], [1420145743.0, 1420145749.0, ...</td>\n",
              "    </tr>\n",
              "    <tr>\n",
              "      <th>3</th>\n",
              "      <td>5013adf30454e27ae4000002</td>\n",
              "      <td>[[1420236768.0]]</td>\n",
              "    </tr>\n",
              "    <tr>\n",
              "      <th>4</th>\n",
              "      <td>503e2b5eba40af242e000052</td>\n",
              "      <td>[[1419599544.0], [1419711974.0], [1419873306.0...</td>\n",
              "    </tr>\n",
              "    <tr>\n",
              "      <th>...</th>\n",
              "      <td>...</td>\n",
              "      <td>...</td>\n",
              "    </tr>\n",
              "    <tr>\n",
              "      <th>938</th>\n",
              "      <td>54aaa28a9cd1187eeb0000cf</td>\n",
              "      <td>[[1420468897.0, 1420468904.0, 1420468925.0, 14...</td>\n",
              "    </tr>\n",
              "    <tr>\n",
              "      <th>939</th>\n",
              "      <td>54aaa4f4bb7b565415000023</td>\n",
              "      <td>[[1420469582.0, 1420469614.0, 1420469626.0, 14...</td>\n",
              "    </tr>\n",
              "    <tr>\n",
              "      <th>940</th>\n",
              "      <td>54aaa579bb7b563483000398</td>\n",
              "      <td>[[1420470080.0, 1420470568.0, 1420471461.0]]</td>\n",
              "    </tr>\n",
              "    <tr>\n",
              "      <th>941</th>\n",
              "      <td>54aaaba29cd1180cf7000070</td>\n",
              "      <td>[[1420471221.0, 1420471253.0, 1420471287.0, 14...</td>\n",
              "    </tr>\n",
              "    <tr>\n",
              "      <th>942</th>\n",
              "      <td>54aac9549cd11825500000f8</td>\n",
              "      <td>[[1420478817.0, 1420478843.0, 1420478868.0, 14...</td>\n",
              "    </tr>\n",
              "  </tbody>\n",
              "</table>\n",
              "<p>943 rows × 2 columns</p>\n",
              "</div>"
            ],
            "text/plain": [
              "                      user_id                                           sessions\n",
              "0    4d5835cc2a82e278e6000028  [[1420448863.0, 1420448871.0, 1420448881.0, 14...\n",
              "1    4fcaa6daae60e44a1900000b  [[1420083419.0, 1420083420.0, 1420083420.0, 14...\n",
              "2    50085cfc44dff81137000020  [[1419805955.0], [1420145743.0, 1420145749.0, ...\n",
              "3    5013adf30454e27ae4000002                                   [[1420236768.0]]\n",
              "4    503e2b5eba40af242e000052  [[1419599544.0], [1419711974.0], [1419873306.0...\n",
              "..                        ...                                                ...\n",
              "938  54aaa28a9cd1187eeb0000cf  [[1420468897.0, 1420468904.0, 1420468925.0, 14...\n",
              "939  54aaa4f4bb7b565415000023  [[1420469582.0, 1420469614.0, 1420469626.0, 14...\n",
              "940  54aaa579bb7b563483000398       [[1420470080.0, 1420470568.0, 1420471461.0]]\n",
              "941  54aaaba29cd1180cf7000070  [[1420471221.0, 1420471253.0, 1420471287.0, 14...\n",
              "942  54aac9549cd11825500000f8  [[1420478817.0, 1420478843.0, 1420478868.0, 14...\n",
              "\n",
              "[943 rows x 2 columns]"
            ]
          },
          "metadata": {
            "tags": []
          },
          "execution_count": 7
        }
      ]
    },
    {
      "cell_type": "code",
      "metadata": {
        "colab": {
          "base_uri": "https://localhost:8080/",
          "height": 419
        },
        "id": "MOfqOEtLzBkm",
        "outputId": "7cce7765-b51c-40a8-d272-f00cffb415e5"
      },
      "source": [
        "user_id_list = []\n",
        "sessions_list = []\n",
        "for index, row in df1.iterrows():\n",
        "    user_id = row['user_id']\n",
        "    last_session_end_time = None\n",
        "    for session in row['sessions']:\n",
        "        user_id_list.append(user_id)\n",
        "        sessions_list.append(session)\n",
        "sessioned_df = pd.DataFrame({'user_id': user_id_list, 'session': sessions_list})\n",
        "sessioned_df"
      ],
      "execution_count": 8,
      "outputs": [
        {
          "output_type": "execute_result",
          "data": {
            "text/html": [
              "<div>\n",
              "<style scoped>\n",
              "    .dataframe tbody tr th:only-of-type {\n",
              "        vertical-align: middle;\n",
              "    }\n",
              "\n",
              "    .dataframe tbody tr th {\n",
              "        vertical-align: top;\n",
              "    }\n",
              "\n",
              "    .dataframe thead th {\n",
              "        text-align: right;\n",
              "    }\n",
              "</style>\n",
              "<table border=\"1\" class=\"dataframe\">\n",
              "  <thead>\n",
              "    <tr style=\"text-align: right;\">\n",
              "      <th></th>\n",
              "      <th>user_id</th>\n",
              "      <th>session</th>\n",
              "    </tr>\n",
              "  </thead>\n",
              "  <tbody>\n",
              "    <tr>\n",
              "      <th>0</th>\n",
              "      <td>4d5835cc2a82e278e6000028</td>\n",
              "      <td>[1420448863.0, 1420448871.0, 1420448881.0, 142...</td>\n",
              "    </tr>\n",
              "    <tr>\n",
              "      <th>1</th>\n",
              "      <td>4d5835cc2a82e278e6000028</td>\n",
              "      <td>[1420470242.0, 1420470293.0, 1420470345.0, 142...</td>\n",
              "    </tr>\n",
              "    <tr>\n",
              "      <th>2</th>\n",
              "      <td>4fcaa6daae60e44a1900000b</td>\n",
              "      <td>[1420083419.0, 1420083420.0, 1420083420.0, 142...</td>\n",
              "    </tr>\n",
              "    <tr>\n",
              "      <th>3</th>\n",
              "      <td>50085cfc44dff81137000020</td>\n",
              "      <td>[1419805955.0]</td>\n",
              "    </tr>\n",
              "    <tr>\n",
              "      <th>4</th>\n",
              "      <td>50085cfc44dff81137000020</td>\n",
              "      <td>[1420145743.0, 1420145749.0, 1420145752.0, 142...</td>\n",
              "    </tr>\n",
              "    <tr>\n",
              "      <th>...</th>\n",
              "      <td>...</td>\n",
              "      <td>...</td>\n",
              "    </tr>\n",
              "    <tr>\n",
              "      <th>2259</th>\n",
              "      <td>54aaa28a9cd1187eeb0000cf</td>\n",
              "      <td>[1420468897.0, 1420468904.0, 1420468925.0, 142...</td>\n",
              "    </tr>\n",
              "    <tr>\n",
              "      <th>2260</th>\n",
              "      <td>54aaa4f4bb7b565415000023</td>\n",
              "      <td>[1420469582.0, 1420469614.0, 1420469626.0, 142...</td>\n",
              "    </tr>\n",
              "    <tr>\n",
              "      <th>2261</th>\n",
              "      <td>54aaa579bb7b563483000398</td>\n",
              "      <td>[1420470080.0, 1420470568.0, 1420471461.0]</td>\n",
              "    </tr>\n",
              "    <tr>\n",
              "      <th>2262</th>\n",
              "      <td>54aaaba29cd1180cf7000070</td>\n",
              "      <td>[1420471221.0, 1420471253.0, 1420471287.0, 142...</td>\n",
              "    </tr>\n",
              "    <tr>\n",
              "      <th>2263</th>\n",
              "      <td>54aac9549cd11825500000f8</td>\n",
              "      <td>[1420478817.0, 1420478843.0, 1420478868.0, 142...</td>\n",
              "    </tr>\n",
              "  </tbody>\n",
              "</table>\n",
              "<p>2264 rows × 2 columns</p>\n",
              "</div>"
            ],
            "text/plain": [
              "                       user_id                                            session\n",
              "0     4d5835cc2a82e278e6000028  [1420448863.0, 1420448871.0, 1420448881.0, 142...\n",
              "1     4d5835cc2a82e278e6000028  [1420470242.0, 1420470293.0, 1420470345.0, 142...\n",
              "2     4fcaa6daae60e44a1900000b  [1420083419.0, 1420083420.0, 1420083420.0, 142...\n",
              "3     50085cfc44dff81137000020                                     [1419805955.0]\n",
              "4     50085cfc44dff81137000020  [1420145743.0, 1420145749.0, 1420145752.0, 142...\n",
              "...                        ...                                                ...\n",
              "2259  54aaa28a9cd1187eeb0000cf  [1420468897.0, 1420468904.0, 1420468925.0, 142...\n",
              "2260  54aaa4f4bb7b565415000023  [1420469582.0, 1420469614.0, 1420469626.0, 142...\n",
              "2261  54aaa579bb7b563483000398         [1420470080.0, 1420470568.0, 1420471461.0]\n",
              "2262  54aaaba29cd1180cf7000070  [1420471221.0, 1420471253.0, 1420471287.0, 142...\n",
              "2263  54aac9549cd11825500000f8  [1420478817.0, 1420478843.0, 1420478868.0, 142...\n",
              "\n",
              "[2264 rows x 2 columns]"
            ]
          },
          "metadata": {
            "tags": []
          },
          "execution_count": 8
        }
      ]
    },
    {
      "cell_type": "code",
      "metadata": {
        "colab": {
          "base_uri": "https://localhost:8080/"
        },
        "id": "-aAxpmtzzCzv",
        "outputId": "95f03326-d9d9-4a57-c0f1-4b3bc6f3a50e"
      },
      "source": [
        "for index, row in sessioned_df.iterrows():\n",
        "    print(row['session'])\n",
        "    break"
      ],
      "execution_count": 9,
      "outputs": [
        {
          "output_type": "stream",
          "text": [
            "[1420448863.0, 1420448871.0, 1420448881.0, 1420450388.0]\n"
          ],
          "name": "stdout"
        }
      ]
    },
    {
      "cell_type": "code",
      "metadata": {
        "id": "aZQtRxSXzEos"
      },
      "source": [
        "def disengage_by(hits, index, timer = 5):\n",
        "    for i in range(index, len(hits) - 1):\n",
        "        diff = (hits[i + 1] - hits[i]) / 60\n",
        "        diff_from_start = (hits[i] - hits[index]) / 60 \n",
        "        if diff_from_start >= 5:\n",
        "            return False\n",
        "        if diff >= 30:\n",
        "            return True\n",
        "    return True\n",
        "\n",
        "def create_sets(hits, max_win_size = 50, norm = True):\n",
        "    min_val = hits.min()\n",
        "    max_val = hits.max()\n",
        "    last_hit = hits[0] if not norm else norm_timestamp(hits[0], min_val, max_val)\n",
        "    X, Y = [], []\n",
        "    window_hits = [last_hit]\n",
        "    for i in range(1, len(hits)):\n",
        "        tmp = hits[i] if not norm else norm_timestamp(hits[i], min_val, max_val)\n",
        "        X.append(window_hits[-max_win_size:])\n",
        "        if disengage_by(hits, i):\n",
        "            Y.append(1)\n",
        "        else:\n",
        "            Y.append(0)\n",
        "        window_hits.append(tmp)\n",
        "    return X, Y"
      ],
      "execution_count": 46,
      "outputs": []
    },
    {
      "cell_type": "code",
      "metadata": {
        "colab": {
          "base_uri": "https://localhost:8080/"
        },
        "id": "5mx6MSKjzFkI",
        "outputId": "67cd883a-8245-437b-90ed-3866e12f50b9"
      },
      "source": [
        "X, Y = [], []\n",
        "for name, group in df.groupby('user_id'):\n",
        "    x, y = create_sets(group['hit_date'].values)\n",
        "    X += x\n",
        "    Y += y\n",
        "X = np.array(X)\n",
        "Y = np.array(Y)\n",
        "print(X.shape)\n",
        "print(Y.shape)"
      ],
      "execution_count": 47,
      "outputs": [
        {
          "output_type": "stream",
          "text": [
            "/usr/local/lib/python3.7/dist-packages/ipykernel_launcher.py:2: RuntimeWarning: invalid value encountered in double_scalars\n",
            "  \n"
          ],
          "name": "stderr"
        },
        {
          "output_type": "stream",
          "text": [
            "(99056,)\n",
            "(99056,)\n"
          ],
          "name": "stdout"
        },
        {
          "output_type": "stream",
          "text": [
            "/usr/local/lib/python3.7/dist-packages/ipykernel_launcher.py:6: VisibleDeprecationWarning: Creating an ndarray from ragged nested sequences (which is a list-or-tuple of lists-or-tuples-or ndarrays with different lengths or shapes) is deprecated. If you meant to do this, you must specify 'dtype=object' when creating the ndarray\n",
            "  \n"
          ],
          "name": "stderr"
        }
      ]
    },
    {
      "cell_type": "code",
      "metadata": {
        "colab": {
          "base_uri": "https://localhost:8080/",
          "height": 419
        },
        "id": "yhQGDovT0_xM",
        "outputId": "709037c5-a326-4249-8e3c-b7691772724e"
      },
      "source": [
        "train_df = pd.DataFrame({'X': X, 'Y': Y})\n",
        "train_df"
      ],
      "execution_count": 48,
      "outputs": [
        {
          "output_type": "execute_result",
          "data": {
            "text/html": [
              "<div>\n",
              "<style scoped>\n",
              "    .dataframe tbody tr th:only-of-type {\n",
              "        vertical-align: middle;\n",
              "    }\n",
              "\n",
              "    .dataframe tbody tr th {\n",
              "        vertical-align: top;\n",
              "    }\n",
              "\n",
              "    .dataframe thead th {\n",
              "        text-align: right;\n",
              "    }\n",
              "</style>\n",
              "<table border=\"1\" class=\"dataframe\">\n",
              "  <thead>\n",
              "    <tr style=\"text-align: right;\">\n",
              "      <th></th>\n",
              "      <th>X</th>\n",
              "      <th>Y</th>\n",
              "    </tr>\n",
              "  </thead>\n",
              "  <tbody>\n",
              "    <tr>\n",
              "      <th>0</th>\n",
              "      <td>[0.0]</td>\n",
              "      <td>0</td>\n",
              "    </tr>\n",
              "    <tr>\n",
              "      <th>1</th>\n",
              "      <td>[0.0, 0.0003295300078263377]</td>\n",
              "      <td>0</td>\n",
              "    </tr>\n",
              "    <tr>\n",
              "      <th>2</th>\n",
              "      <td>[0.0, 0.0003295300078263377, 0.000741442517609...</td>\n",
              "      <td>1</td>\n",
              "    </tr>\n",
              "    <tr>\n",
              "      <th>3</th>\n",
              "      <td>[0.0, 0.0003295300078263377, 0.000741442517609...</td>\n",
              "      <td>0</td>\n",
              "    </tr>\n",
              "    <tr>\n",
              "      <th>4</th>\n",
              "      <td>[0.0, 0.0003295300078263377, 0.000741442517609...</td>\n",
              "      <td>0</td>\n",
              "    </tr>\n",
              "    <tr>\n",
              "      <th>...</th>\n",
              "      <td>...</td>\n",
              "      <td>...</td>\n",
              "    </tr>\n",
              "    <tr>\n",
              "      <th>99051</th>\n",
              "      <td>[0.0, 0.1285140562248996, 0.26506024096385544,...</td>\n",
              "      <td>1</td>\n",
              "    </tr>\n",
              "    <tr>\n",
              "      <th>99052</th>\n",
              "      <td>[0.0]</td>\n",
              "      <td>1</td>\n",
              "    </tr>\n",
              "    <tr>\n",
              "      <th>99053</th>\n",
              "      <td>[0.0, 0.4]</td>\n",
              "      <td>1</td>\n",
              "    </tr>\n",
              "    <tr>\n",
              "      <th>99054</th>\n",
              "      <td>[0.0, 0.4, 0.7846153846153846]</td>\n",
              "      <td>1</td>\n",
              "    </tr>\n",
              "    <tr>\n",
              "      <th>99055</th>\n",
              "      <td>[0.0, 0.4, 0.7846153846153846, 0.8461538461538...</td>\n",
              "      <td>1</td>\n",
              "    </tr>\n",
              "  </tbody>\n",
              "</table>\n",
              "<p>99056 rows × 2 columns</p>\n",
              "</div>"
            ],
            "text/plain": [
              "                                                       X  Y\n",
              "0                                                  [0.0]  0\n",
              "1                           [0.0, 0.0003295300078263377]  0\n",
              "2      [0.0, 0.0003295300078263377, 0.000741442517609...  1\n",
              "3      [0.0, 0.0003295300078263377, 0.000741442517609...  0\n",
              "4      [0.0, 0.0003295300078263377, 0.000741442517609...  0\n",
              "...                                                  ... ..\n",
              "99051  [0.0, 0.1285140562248996, 0.26506024096385544,...  1\n",
              "99052                                              [0.0]  1\n",
              "99053                                         [0.0, 0.4]  1\n",
              "99054                     [0.0, 0.4, 0.7846153846153846]  1\n",
              "99055  [0.0, 0.4, 0.7846153846153846, 0.8461538461538...  1\n",
              "\n",
              "[99056 rows x 2 columns]"
            ]
          },
          "metadata": {
            "tags": []
          },
          "execution_count": 48
        }
      ]
    },
    {
      "cell_type": "code",
      "metadata": {
        "colab": {
          "base_uri": "https://localhost:8080/",
          "height": 419
        },
        "id": "iwo_8j59ifMd",
        "outputId": "fa8a65a3-7097-400b-bd50-73299e99b8e2"
      },
      "source": [
        "train_df['x_len'] = train_df['X'].apply(lambda r: len(r))\n",
        "train_df"
      ],
      "execution_count": 49,
      "outputs": [
        {
          "output_type": "execute_result",
          "data": {
            "text/html": [
              "<div>\n",
              "<style scoped>\n",
              "    .dataframe tbody tr th:only-of-type {\n",
              "        vertical-align: middle;\n",
              "    }\n",
              "\n",
              "    .dataframe tbody tr th {\n",
              "        vertical-align: top;\n",
              "    }\n",
              "\n",
              "    .dataframe thead th {\n",
              "        text-align: right;\n",
              "    }\n",
              "</style>\n",
              "<table border=\"1\" class=\"dataframe\">\n",
              "  <thead>\n",
              "    <tr style=\"text-align: right;\">\n",
              "      <th></th>\n",
              "      <th>X</th>\n",
              "      <th>Y</th>\n",
              "      <th>x_len</th>\n",
              "    </tr>\n",
              "  </thead>\n",
              "  <tbody>\n",
              "    <tr>\n",
              "      <th>0</th>\n",
              "      <td>[0.0]</td>\n",
              "      <td>0</td>\n",
              "      <td>1</td>\n",
              "    </tr>\n",
              "    <tr>\n",
              "      <th>1</th>\n",
              "      <td>[0.0, 0.0003295300078263377]</td>\n",
              "      <td>0</td>\n",
              "      <td>2</td>\n",
              "    </tr>\n",
              "    <tr>\n",
              "      <th>2</th>\n",
              "      <td>[0.0, 0.0003295300078263377, 0.000741442517609...</td>\n",
              "      <td>1</td>\n",
              "      <td>3</td>\n",
              "    </tr>\n",
              "    <tr>\n",
              "      <th>3</th>\n",
              "      <td>[0.0, 0.0003295300078263377, 0.000741442517609...</td>\n",
              "      <td>0</td>\n",
              "      <td>4</td>\n",
              "    </tr>\n",
              "    <tr>\n",
              "      <th>4</th>\n",
              "      <td>[0.0, 0.0003295300078263377, 0.000741442517609...</td>\n",
              "      <td>0</td>\n",
              "      <td>5</td>\n",
              "    </tr>\n",
              "    <tr>\n",
              "      <th>...</th>\n",
              "      <td>...</td>\n",
              "      <td>...</td>\n",
              "      <td>...</td>\n",
              "    </tr>\n",
              "    <tr>\n",
              "      <th>99051</th>\n",
              "      <td>[0.0, 0.1285140562248996, 0.26506024096385544,...</td>\n",
              "      <td>1</td>\n",
              "      <td>15</td>\n",
              "    </tr>\n",
              "    <tr>\n",
              "      <th>99052</th>\n",
              "      <td>[0.0]</td>\n",
              "      <td>1</td>\n",
              "      <td>1</td>\n",
              "    </tr>\n",
              "    <tr>\n",
              "      <th>99053</th>\n",
              "      <td>[0.0, 0.4]</td>\n",
              "      <td>1</td>\n",
              "      <td>2</td>\n",
              "    </tr>\n",
              "    <tr>\n",
              "      <th>99054</th>\n",
              "      <td>[0.0, 0.4, 0.7846153846153846]</td>\n",
              "      <td>1</td>\n",
              "      <td>3</td>\n",
              "    </tr>\n",
              "    <tr>\n",
              "      <th>99055</th>\n",
              "      <td>[0.0, 0.4, 0.7846153846153846, 0.8461538461538...</td>\n",
              "      <td>1</td>\n",
              "      <td>4</td>\n",
              "    </tr>\n",
              "  </tbody>\n",
              "</table>\n",
              "<p>99056 rows × 3 columns</p>\n",
              "</div>"
            ],
            "text/plain": [
              "                                                       X  Y  x_len\n",
              "0                                                  [0.0]  0      1\n",
              "1                           [0.0, 0.0003295300078263377]  0      2\n",
              "2      [0.0, 0.0003295300078263377, 0.000741442517609...  1      3\n",
              "3      [0.0, 0.0003295300078263377, 0.000741442517609...  0      4\n",
              "4      [0.0, 0.0003295300078263377, 0.000741442517609...  0      5\n",
              "...                                                  ... ..    ...\n",
              "99051  [0.0, 0.1285140562248996, 0.26506024096385544,...  1     15\n",
              "99052                                              [0.0]  1      1\n",
              "99053                                         [0.0, 0.4]  1      2\n",
              "99054                     [0.0, 0.4, 0.7846153846153846]  1      3\n",
              "99055  [0.0, 0.4, 0.7846153846153846, 0.8461538461538...  1      4\n",
              "\n",
              "[99056 rows x 3 columns]"
            ]
          },
          "metadata": {
            "tags": []
          },
          "execution_count": 49
        }
      ]
    },
    {
      "cell_type": "code",
      "metadata": {
        "colab": {
          "base_uri": "https://localhost:8080/",
          "height": 530
        },
        "id": "gHmcQtJllPb3",
        "outputId": "af282007-5786-4e86-aa00-aabe41dd7b49"
      },
      "source": [
        "fig, ax = plt.subplots(figsize=(16, 8))\n",
        "ax.set_title('histogram of entries before padding')\n",
        "ax.set_xlabel('Entry Length')\n",
        "train_df['x_len'].plot.hist(ax=ax)"
      ],
      "execution_count": 50,
      "outputs": [
        {
          "output_type": "execute_result",
          "data": {
            "text/plain": [
              "<matplotlib.axes._subplots.AxesSubplot at 0x7f4e04591c10>"
            ]
          },
          "metadata": {
            "tags": []
          },
          "execution_count": 50
        },
        {
          "output_type": "display_data",
          "data": {
            "image/png": "[encoded data removed]",
            "text/plain": [
              "<Figure size 1152x576 with 1 Axes>"
            ]
          },
          "metadata": {
            "tags": [],
            "needs_background": "light"
          }
        }
      ]
    },
    {
      "cell_type": "code",
      "metadata": {
        "colab": {
          "base_uri": "https://localhost:8080/"
        },
        "id": "Mru6NXxvzGgL",
        "outputId": "fca453f3-6f6c-4faf-9a32-2a040ed379ed"
      },
      "source": [
        "from tensorflow.keras.preprocessing.sequence import pad_sequences\n",
        "\n",
        "padded_X = pad_sequences(X, dtype='float32', value=0.0, padding='pre')\n",
        "padded_X.shape"
      ],
      "execution_count": 54,
      "outputs": [
        {
          "output_type": "execute_result",
          "data": {
            "text/plain": [
              "(99056, 50)"
            ]
          },
          "metadata": {
            "tags": []
          },
          "execution_count": 54
        }
      ]
    },
    {
      "cell_type": "code",
      "metadata": {
        "id": "Qa5nSzQszHRQ"
      },
      "source": [
        "from tensorflow.keras.models import Sequential\n",
        "from tensorflow.keras.layers import Dense, Masking, Dropout\n",
        "from tensorflow.keras.layers import LSTM\n",
        "from tensorflow.keras.callbacks import ReduceLROnPlateau, EarlyStopping\n",
        "\n",
        "from keras import backend as K\n",
        "\n",
        "def recall_m(y_true, y_pred):\n",
        "    true_positives = K.sum(K.round(K.clip(y_true * y_pred, 0, 1)))\n",
        "    possible_positives = K.sum(K.round(K.clip(y_true, 0, 1)))\n",
        "    recall = true_positives / (possible_positives + K.epsilon())\n",
        "    return recall\n",
        "\n",
        "def precision_m(y_true, y_pred):\n",
        "    true_positives = K.sum(K.round(K.clip(y_true * y_pred, 0, 1)))\n",
        "    predicted_positives = K.sum(K.round(K.clip(y_pred, 0, 1)))\n",
        "    precision = true_positives / (predicted_positives + K.epsilon())\n",
        "    return precision\n",
        "\n",
        "def f1_m(y_true, y_pred):\n",
        "    precision = precision_m(y_true, y_pred)\n",
        "    recall = recall_m(y_true, y_pred)\n",
        "    return 2*((precision*recall)/(precision+recall+K.epsilon()))\n",
        "\n",
        "\n",
        "def fit_lstm(x, y, batch_size, nb_epoch, neurons, timesteps):\n",
        "    X, Y = x, y\n",
        "    features = 1\n",
        "    reduce_lr = ReduceLROnPlateau(monitor='val_f1_m', factor=0.2,\n",
        "                              patience=0, min_lr=0.0001, verbose = 2)\n",
        "    early_stop = EarlyStopping(monitor='val_f1_m', verbose=2, patience=2, mode='auto')\n",
        "    model = Sequential()\n",
        "    model.add(Masking(mask_value=0., input_shape=(timesteps, features)))\n",
        "    model.add(LSTM(neurons))\n",
        "    model.add(Dense(32, activation='relu'))\n",
        "    model.add(Dense(16, activation='relu'))\n",
        "    model.add(Dense(1, activation='sigmoid'))\n",
        "    model.compile(loss='binary_crossentropy', optimizer='adam', metrics=['accuracy',f1_m,precision_m, recall_m])\n",
        "    model.summary()\n",
        "    model.fit(x, y, epochs = nb_epoch, verbose=2, validation_split = 0.2, batch_size=batch_size, callbacks=[reduce_lr, early_stop])\n",
        "    return model"
      ],
      "execution_count": 56,
      "outputs": []
    },
    {
      "cell_type": "code",
      "metadata": {
        "id": "easDa258003L"
      },
      "source": [
        "from sklearn.model_selection import train_test_split\n",
        "\n",
        "X_train, X_test, y_train, y_test = train_test_split(padded_X, Y, test_size=0.25)"
      ],
      "execution_count": 57,
      "outputs": []
    },
    {
      "cell_type": "code",
      "metadata": {
        "colab": {
          "base_uri": "https://localhost:8080/"
        },
        "id": "6YzdhMTfzIHD",
        "outputId": "c13a3013-1138-4e72-dbf2-1fff95212308"
      },
      "source": [
        "model = fit_lstm(X_train, y_train, 128, 5, 64, padded_X.shape[1])"
      ],
      "execution_count": 58,
      "outputs": [
        {
          "output_type": "stream",
          "text": [
            "Model: \"sequential_3\"\n",
            "_________________________________________________________________\n",
            "Layer (type)                 Output Shape              Param #   \n",
            "=================================================================\n",
            "masking_3 (Masking)          (None, 50, 1)             0         \n",
            "_________________________________________________________________\n",
            "lstm_3 (LSTM)                (None, 64)                16896     \n",
            "_________________________________________________________________\n",
            "dense_9 (Dense)              (None, 32)                2080      \n",
            "_________________________________________________________________\n",
            "dense_10 (Dense)             (None, 16)                528       \n",
            "_________________________________________________________________\n",
            "dense_11 (Dense)             (None, 1)                 17        \n",
            "=================================================================\n",
            "Total params: 19,521\n",
            "Trainable params: 19,521\n",
            "Non-trainable params: 0\n",
            "_________________________________________________________________\n",
            "Epoch 1/5\n",
            "465/465 - 59s - loss: 0.6139 - accuracy: 0.6856 - f1_m: 0.1332 - precision_m: 0.3858 - recall_m: 0.0881 - val_loss: 0.6061 - val_accuracy: 0.6950 - val_f1_m: 0.1770 - val_precision_m: 0.6640 - val_recall_m: 0.1044\n",
            "Epoch 2/5\n",
            "465/465 - 54s - loss: 0.5974 - accuracy: 0.7029 - f1_m: 0.2617 - precision_m: 0.6885 - recall_m: 0.1696 - val_loss: 0.5795 - val_accuracy: 0.7204 - val_f1_m: 0.2794 - val_precision_m: 0.8144 - val_recall_m: 0.1718\n",
            "\n",
            "Epoch 00002: ReduceLROnPlateau reducing learning rate to 0.00020000000949949026.\n",
            "Epoch 3/5\n",
            "465/465 - 56s - loss: 0.5820 - accuracy: 0.7176 - f1_m: 0.3147 - precision_m: 0.7352 - recall_m: 0.2043 - val_loss: 0.5707 - val_accuracy: 0.7275 - val_f1_m: 0.3520 - val_precision_m: 0.7493 - val_recall_m: 0.2341\n",
            "\n",
            "Epoch 00003: ReduceLROnPlateau reducing learning rate to 0.0001.\n",
            "Epoch 00003: early stopping\n"
          ],
          "name": "stdout"
        }
      ]
    },
    {
      "cell_type": "code",
      "metadata": {
        "colab": {
          "base_uri": "https://localhost:8080/"
        },
        "id": "EMGj4yfalhQD",
        "outputId": "50cdda72-4229-409e-f1ef-3ef4185e8344"
      },
      "source": [
        "model.evaluate(X_test, y_test)"
      ],
      "execution_count": 60,
      "outputs": [
        {
          "output_type": "stream",
          "text": [
            "774/774 [==============================] - 8s 11ms/step - loss: 0.5783 - accuracy: 0.7204 - f1_m: 0.3341 - precision_m: 0.7086 - recall_m: 0.2316\n"
          ],
          "name": "stdout"
        },
        {
          "output_type": "execute_result",
          "data": {
            "text/plain": [
              "[0.5782768130302429,\n",
              " 0.7204005718231201,\n",
              " 0.33406099677085876,\n",
              " 0.7085880637168884,\n",
              " 0.2316257357597351]"
            ]
          },
          "metadata": {
            "tags": []
          },
          "execution_count": 60
        }
      ]
    },
    {
      "cell_type": "code",
      "metadata": {
        "id": "aBXrOlNwOM3f"
      },
      "source": [
        "preds = model.predict(X_test)"
      ],
      "execution_count": 59,
      "outputs": []
    },
    {
      "cell_type": "code",
      "metadata": {
        "id": "Cp8a_-95Og_x"
      },
      "source": [
        "t = []\n",
        "for i in range(len(preds)):\n",
        "  if preds[i] >= 0.5:\n",
        "    t.append(1)\n",
        "  else:\n",
        "    t.append(0)"
      ],
      "execution_count": 61,
      "outputs": []
    },
    {
      "cell_type": "code",
      "metadata": {
        "colab": {
          "base_uri": "https://localhost:8080/",
          "height": 530
        },
        "id": "n9FuB1qYORdH",
        "outputId": "ed5a2245-3972-40ef-e14d-1edcc65b0919"
      },
      "source": [
        "from sklearn.metrics import confusion_matrix\n",
        "import seaborn as sns\n",
        "\n",
        "fig ,ax = plt.subplots(figsize=(8, 8))\n",
        "cf_matrix = confusion_matrix(y_test, t)\n",
        "sns.heatmap(cf_matrix, annot=True, fmt='g', cmap='Blues', ax=ax)\n",
        "ax.set_xlabel('Predicted')\n",
        "ax.set_ylabel('True')\n",
        "ax.set_title('Test result confusion matrix')"
      ],
      "execution_count": 70,
      "outputs": [
        {
          "output_type": "execute_result",
          "data": {
            "text/plain": [
              "Text(0.5, 1.0, 'Test result confusion matrix')"
            ]
          },
          "metadata": {
            "tags": []
          },
          "execution_count": 70
        },
        {
          "output_type": "display_data",
          "data": {
            "image/png": "[encoded data removed]",
            "text/plain": [
              "<Figure size 576x576 with 2 Axes>"
            ]
          },
          "metadata": {
            "tags": [],
            "needs_background": "light"
          }
        }
      ]
    },
    {
      "cell_type": "code",
      "metadata": {
        "id": "R2-aHdXezuRs"
      },
      "source": [
        "tmp1 = 0\n",
        "tmp2 = 0\n",
        "for tmp in Y:\n",
        "  if tmp == 0:\n",
        "    tmp1 += 1\n",
        "  else:\n",
        "    tmp2 += 1"
      ],
      "execution_count": null,
      "outputs": []
    },
    {
      "cell_type": "code",
      "metadata": {
        "colab": {
          "base_uri": "https://localhost:8080/"
        },
        "id": "ccwH_pv-DKTN",
        "outputId": "4fa66be9-0403-491a-f1a8-3d09fdb4613a"
      },
      "source": [
        "print(tmp1 /(tmp1 + tmp2))\n",
        "print(tmp2 /(tmp1 + tmp2))"
      ],
      "execution_count": null,
      "outputs": [
        {
          "output_type": "stream",
          "text": [
            "0.6754058310450655\n",
            "0.3245941689549346\n"
          ],
          "name": "stdout"
        }
      ]
    },
    {
      "cell_type": "code",
      "metadata": {
        "id": "39tsKQG_DWST"
      },
      "source": [
        "model.pred(X[:10])"
      ],
      "execution_count": null,
      "outputs": []
    },
    {
      "cell_type": "code",
      "metadata": {
        "id": "g3JUS4-CDcBQ"
      },
      "source": [
        ""
      ],
      "execution_count": null,
      "outputs": []
    }
  ]
}